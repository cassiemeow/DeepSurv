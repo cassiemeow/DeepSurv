{
 "cells": [
  {
   "cell_type": "code",
   "execution_count": 1,
   "metadata": {
    "scrolled": true
   },
   "outputs": [
    {
     "name": "stderr",
     "output_type": "stream",
     "text": [
      "/anaconda3/lib/python3.6/site-packages/h5py/__init__.py:36: FutureWarning: Conversion of the second argument of issubdtype from `float` to `np.floating` is deprecated. In future, it will be treated as `np.float64 == np.dtype(float).type`.\n",
      "  from ._conv import register_converters as _register_converters\n"
     ]
    }
   ],
   "source": [
    "# Use DeepSurv from the repo\n",
    "import sys\n",
    "sys.path.append('../deepsurv')\n",
    "import deep_surv"
   ]
  },
  {
   "cell_type": "code",
   "execution_count": 2,
   "metadata": {},
   "outputs": [],
   "source": [
    "from deepsurv.deepsurv_logger import DeepSurvLogger, TensorboardLogger\n",
    "import utils\n",
    "import viz\n",
    "\n",
    "import numpy as np\n",
    "import pandas as pd\n",
    "\n",
    "import lasagne\n",
    "import matplotlib\n",
    "import matplotlib.pyplot as plt\n",
    "%matplotlib inline"
   ]
  },
  {
   "cell_type": "markdown",
   "metadata": {},
   "source": [
    "# Read in dataset\n",
    "First, I read in the dataset and print the first five elements to get a sense of what the dataset looks like"
   ]
  },
  {
   "cell_type": "code",
   "execution_count": 3,
   "metadata": {},
   "outputs": [
    {
     "data": {
      "text/html": [
       "<div>\n",
       "<style scoped>\n",
       "    .dataframe tbody tr th:only-of-type {\n",
       "        vertical-align: middle;\n",
       "    }\n",
       "\n",
       "    .dataframe tbody tr th {\n",
       "        vertical-align: top;\n",
       "    }\n",
       "\n",
       "    .dataframe thead th {\n",
       "        text-align: right;\n",
       "    }\n",
       "</style>\n",
       "<table border=\"1\" class=\"dataframe\">\n",
       "  <thead>\n",
       "    <tr style=\"text-align: right;\">\n",
       "      <th></th>\n",
       "      <th>Variable_1</th>\n",
       "      <th>Variable_2</th>\n",
       "      <th>Variable_3</th>\n",
       "      <th>Variable_4</th>\n",
       "      <th>Event</th>\n",
       "      <th>Time</th>\n",
       "    </tr>\n",
       "  </thead>\n",
       "  <tbody>\n",
       "    <tr>\n",
       "      <th>0</th>\n",
       "      <td>0</td>\n",
       "      <td>3</td>\n",
       "      <td>2</td>\n",
       "      <td>4.6</td>\n",
       "      <td>1</td>\n",
       "      <td>43</td>\n",
       "    </tr>\n",
       "    <tr>\n",
       "      <th>1</th>\n",
       "      <td>0</td>\n",
       "      <td>2</td>\n",
       "      <td>0</td>\n",
       "      <td>1.6</td>\n",
       "      <td>0</td>\n",
       "      <td>52</td>\n",
       "    </tr>\n",
       "    <tr>\n",
       "      <th>2</th>\n",
       "      <td>0</td>\n",
       "      <td>3</td>\n",
       "      <td>0</td>\n",
       "      <td>3.5</td>\n",
       "      <td>1</td>\n",
       "      <td>73</td>\n",
       "    </tr>\n",
       "    <tr>\n",
       "      <th>3</th>\n",
       "      <td>0</td>\n",
       "      <td>3</td>\n",
       "      <td>1</td>\n",
       "      <td>5.1</td>\n",
       "      <td>0</td>\n",
       "      <td>51</td>\n",
       "    </tr>\n",
       "    <tr>\n",
       "      <th>4</th>\n",
       "      <td>0</td>\n",
       "      <td>2</td>\n",
       "      <td>0</td>\n",
       "      <td>1.7</td>\n",
       "      <td>0</td>\n",
       "      <td>51</td>\n",
       "    </tr>\n",
       "  </tbody>\n",
       "</table>\n",
       "</div>"
      ],
      "text/plain": [
       "   Variable_1   Variable_2  Variable_3  Variable_4  Event  Time\n",
       "0            0           3           2         4.6      1    43\n",
       "1            0           2           0         1.6      0    52\n",
       "2            0           3           0         3.5      1    73\n",
       "3            0           3           1         5.1      0    51\n",
       "4            0           2           0         1.7      0    51"
      ]
     },
     "execution_count": 3,
     "metadata": {},
     "output_type": "execute_result"
    }
   ],
   "source": [
    "train_dataset_fp = './example_data.csv'\n",
    "train_df = pd.read_csv(train_dataset_fp)\n",
    "train_df.head()"
   ]
  },
  {
   "cell_type": "markdown",
   "metadata": {},
   "source": [
    "# Transform the dataset to \"DeepSurv\" format\n",
    "DeepSurv expects a dataset to be in the form:\n",
    "\n",
    "    {\n",
    "        'x': numpy array of float32\n",
    "        'e': numpy array of int32\n",
    "        't': numpy array of float32\n",
    "        'hr': (optional) numpy array of float32\n",
    "    }\n",
    "    \n",
    "You are providing me a csv, which I read in as a pandas dataframe. Then I convert the pandas dataframe into the DeepSurv dataset format above. "
   ]
  },
  {
   "cell_type": "code",
   "execution_count": 4,
   "metadata": {},
   "outputs": [],
   "source": [
    "# event_col is the header in the df that represents the 'Event / Status' indicator\n",
    "# time_col is the header in the df that represents the event time\n",
    "def dataframe_to_deepsurv_ds(df, event_col = 'Event', time_col = 'Time'):\n",
    "    # Extract the event and time columns as numpy arrays\n",
    "    e = df[event_col].values.astype(np.int32)\n",
    "    t = df[time_col].values.astype(np.float32)\n",
    "\n",
    "    # Extract the patient's covariates as a numpy array\n",
    "    x_df = df.drop([event_col, time_col], axis = 1)\n",
    "    x = x_df.values.astype(np.float32)\n",
    "    \n",
    "    # Return the deep surv dataframe\n",
    "    return {\n",
    "        'x' : x,\n",
    "        'e' : e,\n",
    "        't' : t\n",
    "    }\n",
    "\n",
    "# If the headers of the csv change, you can replace the values of \n",
    "# 'event_col' and 'time_col' with the names of the new headers\n",
    "# You can also use this function on your training dataset, validation dataset, and testing dataset\n",
    "train_data = dataframe_to_deepsurv_ds(train_df, event_col = 'Event', time_col= 'Time')"
   ]
  },
  {
   "cell_type": "markdown",
   "metadata": {},
   "source": [
    "Now once you have your dataset all formatted, define you hyper_parameters as a Python dictionary. \n",
    "I'll provide you with some example hyper-parameters, but you should replace the values once you tune them to your specific dataset"
   ]
  },
  {
   "cell_type": "code",
   "execution_count": 5,
   "metadata": {},
   "outputs": [],
   "source": [
    "hyperparams = {\n",
    "    'L2_reg': 10.0,\n",
    "    'batch_norm': True,\n",
    "    'dropout': 0.4,\n",
    "    'hidden_layers_sizes': [25, 25],\n",
    "    'learning_rate': 1e-05,\n",
    "    'lr_decay': 0.001,\n",
    "    'momentum': 0.9,\n",
    "    'n_in': train_data['x'].shape[1],\n",
    "    'standardize': True\n",
    "}"
   ]
  },
  {
   "cell_type": "markdown",
   "metadata": {},
   "source": [
    "Once you prepared your dataset, and defined your hyper-parameters. Now it's time to train DeepSurv!"
   ]
  },
  {
   "cell_type": "code",
   "execution_count": 6,
   "metadata": {
    "scrolled": false
   },
   "outputs": [],
   "source": [
    "# Create an instance of DeepSurv using the hyperparams defined above\n",
    "model = deep_surv.DeepSurv(**hyperparams)"
   ]
  },
  {
   "cell_type": "code",
   "execution_count": 7,
   "metadata": {
    "scrolled": true
   },
   "outputs": [
    {
     "name": "stdout",
     "output_type": "stream",
     "text": [
      "Exception reporting mode: Verbose\n"
     ]
    },
    {
     "ename": "UnusedInputError",
     "evalue": "theano.function was asked to create a function computing outputs given certain inputs, but the provided input variable at index 0 is not part of the computational graph needed to compute the outputs: x.\nTo make this error into a warning, you can pass the parameter on_unused_input='warn' to theano.function. To disable it completely, use on_unused_input='ignore'.",
     "output_type": "error",
     "traceback": [
      "\u001b[0;31m---------------------------------------------------------------------------\u001b[0m",
      "\u001b[0;31mUnusedInputError\u001b[0m                          Traceback (most recent call last)",
      "\u001b[0;32m<ipython-input-7-cc95aaa6d024>\u001b[0m in \u001b[0;36m<module>\u001b[0;34m()\u001b[0m\n\u001b[1;32m     15\u001b[0m \u001b[0;34m\u001b[0m\u001b[0m\n\u001b[1;32m     16\u001b[0m \u001b[0;31m# If you have validation data, you can add it as the second parameter to the function\u001b[0m\u001b[0;34m\u001b[0m\u001b[0;34m\u001b[0m\u001b[0;34m\u001b[0m\u001b[0m\n\u001b[0;32m---> 17\u001b[0;31m \u001b[0mmetrics\u001b[0m \u001b[0;34m=\u001b[0m \u001b[0mmodel\u001b[0m\u001b[0;34m.\u001b[0m\u001b[0mtrain\u001b[0m\u001b[0;34m(\u001b[0m\u001b[0mtrain_data\u001b[0m\u001b[0;34m,\u001b[0m \u001b[0mn_epochs\u001b[0m\u001b[0;34m=\u001b[0m\u001b[0mn_epochs\u001b[0m\u001b[0;34m,\u001b[0m \u001b[0mlogger\u001b[0m\u001b[0;34m=\u001b[0m\u001b[0mlogger\u001b[0m\u001b[0;34m,\u001b[0m \u001b[0mupdate_fn\u001b[0m\u001b[0;34m=\u001b[0m\u001b[0mupdate_fn\u001b[0m\u001b[0;34m)\u001b[0m\u001b[0;34m\u001b[0m\u001b[0;34m\u001b[0m\u001b[0m\n\u001b[0m        \u001b[0;36mglobal\u001b[0m \u001b[0;36mmetrics\u001b[0m \u001b[0;34m= \u001b[0;36mundefined\u001b[0m\u001b[0m\u001b[0;34m\n        \u001b[0m\u001b[0;36mglobal\u001b[0m \u001b[0;36mmodel.train\u001b[0m \u001b[0;34m= <bound method DeepSurv.train of <deep_surv.DeepSurv object at 0x12af925f8>>\u001b[0m\u001b[0;34m\n        \u001b[0m\u001b[0;36mglobal\u001b[0m \u001b[0;36mtrain_data\u001b[0m \u001b[0;34m= {'x': array([[0. , 3. , 2. , 4.6],\n       [0. , 2. , 0. , 1.6],\n       [0. , 3. , 0. , 3.5],\n       ...,\n       [0. , 3. , 0. , 3.1],\n       [0. , 2. , 0. , 1.8],\n       [0. , 2. , 0. , 2.3]], dtype=float32), 'e': array([1, 0, 1, ..., 0, 0, 1], dtype=int32), 't': array([43., 52., 73., ...,  4., 41., 33.], dtype=float32)}\u001b[0m\u001b[0;34m\n        \u001b[0m\u001b[0;36mglobal\u001b[0m \u001b[0;36mn_epochs\u001b[0m \u001b[0;34m= 2000\u001b[0m\u001b[0;34m\n        \u001b[0m\u001b[0;36mglobal\u001b[0m \u001b[0;36mlogger\u001b[0m \u001b[0;34m= <deepsurv.deepsurv_logger.TensorboardLogger object at 0x12b6791d0>\u001b[0m\u001b[0;34m\n        \u001b[0m\u001b[0;36mglobal\u001b[0m \u001b[0;36mupdate_fn\u001b[0m \u001b[0;34m= <function nesterov_momentum at 0x1278ab8c8>\u001b[0m\n",
      "\u001b[0;32m~/DeepSurv/deepsurv/deep_surv.py\u001b[0m in \u001b[0;36mtrain\u001b[0;34m(self=<deep_surv.DeepSurv object>, train_data={'e': array([1, 0, 1, ..., 0, 0, 1], dtype=int32), 't': array([43., 52., 73., ...,  4., 41., 33.], dtype=float32), 'x': array([[0. , 3. , 2. , 4.6],\n       [0. , 2. , 0....8],\n       [0. , 2. , 0. , 2.3]], dtype=float32)}, valid_data=None, n_epochs=2000, validation_frequency=250, patience=2000, improvement_threshold=0.99999, patience_increase=2, logger=<deepsurv.deepsurv_logger.TensorboardLogger object>, update_fn=<function nesterov_momentum>, verbose=True, **kwargs={})\u001b[0m\n\u001b[1;32m    294\u001b[0m             \u001b[0mlearning_rate\u001b[0m\u001b[0;34m=\u001b[0m\u001b[0mlr\u001b[0m\u001b[0;34m,\u001b[0m\u001b[0;34m\u001b[0m\u001b[0;34m\u001b[0m\u001b[0m\n\u001b[1;32m    295\u001b[0m             \u001b[0mmomentum\u001b[0m \u001b[0;34m=\u001b[0m \u001b[0mmomentum\u001b[0m\u001b[0;34m,\u001b[0m\u001b[0;34m\u001b[0m\u001b[0;34m\u001b[0m\u001b[0m\n\u001b[0;32m--> 296\u001b[0;31m             \u001b[0mupdate_fn\u001b[0m \u001b[0;34m=\u001b[0m \u001b[0mupdate_fn\u001b[0m\u001b[0;34m,\u001b[0m \u001b[0;34m**\u001b[0m\u001b[0mkwargs\u001b[0m\u001b[0;34m\u001b[0m\u001b[0;34m\u001b[0m\u001b[0m\n\u001b[0m        \u001b[0;36mupdate_fn\u001b[0m \u001b[0;34m= <function nesterov_momentum at 0x1278ab8c8>\u001b[0m\u001b[0;34m\n        \u001b[0m\u001b[0;36mkwargs\u001b[0m \u001b[0;34m= {}\u001b[0m\n\u001b[1;32m    297\u001b[0m         )\n\u001b[1;32m    298\u001b[0m \u001b[0;34m\u001b[0m\u001b[0m\n",
      "\u001b[0;32m~/DeepSurv/deepsurv/deep_surv.py\u001b[0m in \u001b[0;36m_get_train_valid_fn\u001b[0;34m(self=<deep_surv.DeepSurv object>, L1_reg=0.0, L2_reg=10.0, learning_rate=<TensorType(float32, scalar)>, **kwargs={'momentum': array(0., dtype=float32), 'update_fn': <function nesterov_momentum>})\u001b[0m\n\u001b[1;32m    205\u001b[0m             \u001b[0moutputs\u001b[0m \u001b[0;34m=\u001b[0m \u001b[0mloss\u001b[0m\u001b[0;34m,\u001b[0m\u001b[0;34m\u001b[0m\u001b[0;34m\u001b[0m\u001b[0m\n\u001b[1;32m    206\u001b[0m             \u001b[0mupdates\u001b[0m \u001b[0;34m=\u001b[0m \u001b[0mupdates\u001b[0m\u001b[0;34m,\u001b[0m\u001b[0;34m\u001b[0m\u001b[0;34m\u001b[0m\u001b[0m\n\u001b[0;32m--> 207\u001b[0;31m             \u001b[0mname\u001b[0m \u001b[0;34m=\u001b[0m \u001b[0;34m'train'\u001b[0m\u001b[0;34m\u001b[0m\u001b[0;34m\u001b[0m\u001b[0m\n\u001b[0m        \u001b[0;36mglobal\u001b[0m \u001b[0;36mname\u001b[0m \u001b[0;34m= \u001b[0;36mundefined\u001b[0m\u001b[0m\n\u001b[1;32m    208\u001b[0m         )\n\u001b[1;32m    209\u001b[0m \u001b[0;34m\u001b[0m\u001b[0m\n",
      "\u001b[0;32m/anaconda3/lib/python3.6/site-packages/theano/compile/function.py\u001b[0m in \u001b[0;36mfunction\u001b[0;34m(inputs=[x, e], outputs=Elemwise{add,no_inplace}.0, mode=None, updates=OrderedDict([(W, Elemwise{add,no_inplace}.0), (b...float64, (True,))>, Elemwise{sub,no_inplace}.0)]), givens=[], no_default_updates=False, accept_inplace=False, name='train', rebuild_strict=True, allow_input_downcast=None, profile=None, on_unused_input=None)\u001b[0m\n\u001b[1;32m    315\u001b[0m                    \u001b[0mon_unused_input\u001b[0m\u001b[0;34m=\u001b[0m\u001b[0mon_unused_input\u001b[0m\u001b[0;34m,\u001b[0m\u001b[0;34m\u001b[0m\u001b[0;34m\u001b[0m\u001b[0m\n\u001b[1;32m    316\u001b[0m                    \u001b[0mprofile\u001b[0m\u001b[0;34m=\u001b[0m\u001b[0mprofile\u001b[0m\u001b[0;34m,\u001b[0m\u001b[0;34m\u001b[0m\u001b[0;34m\u001b[0m\u001b[0m\n\u001b[0;32m--> 317\u001b[0;31m                    output_keys=output_keys)\n\u001b[0m        \u001b[0;36moutput_keys\u001b[0m \u001b[0;34m= None\u001b[0m\n\u001b[1;32m    318\u001b[0m     \u001b[0;32mreturn\u001b[0m \u001b[0mfn\u001b[0m\u001b[0;34m\u001b[0m\u001b[0;34m\u001b[0m\u001b[0m\n",
      "\u001b[0;32m/anaconda3/lib/python3.6/site-packages/theano/compile/pfunc.py\u001b[0m in \u001b[0;36mpfunc\u001b[0;34m(params=[x, e], outputs=Elemwise{add,no_inplace}.0, mode=None, updates=OrderedDict([(W, Elemwise{add,no_inplace}.0), (b...float64, (True,))>, Elemwise{sub,no_inplace}.0)]), givens=[], no_default_updates=False, accept_inplace=False, name='train', rebuild_strict=True, allow_input_downcast=None, profile=None, on_unused_input=None, output_keys=None)\u001b[0m\n\u001b[1;32m    484\u001b[0m                          \u001b[0maccept_inplace\u001b[0m\u001b[0;34m=\u001b[0m\u001b[0maccept_inplace\u001b[0m\u001b[0;34m,\u001b[0m \u001b[0mname\u001b[0m\u001b[0;34m=\u001b[0m\u001b[0mname\u001b[0m\u001b[0;34m,\u001b[0m\u001b[0;34m\u001b[0m\u001b[0;34m\u001b[0m\u001b[0m\n\u001b[1;32m    485\u001b[0m                          \u001b[0mprofile\u001b[0m\u001b[0;34m=\u001b[0m\u001b[0mprofile\u001b[0m\u001b[0;34m,\u001b[0m \u001b[0mon_unused_input\u001b[0m\u001b[0;34m=\u001b[0m\u001b[0mon_unused_input\u001b[0m\u001b[0;34m,\u001b[0m\u001b[0;34m\u001b[0m\u001b[0;34m\u001b[0m\u001b[0m\n\u001b[0;32m--> 486\u001b[0;31m                          output_keys=output_keys)\n\u001b[0m        \u001b[0;36moutput_keys\u001b[0m \u001b[0;34m= None\u001b[0m\n\u001b[1;32m    487\u001b[0m \u001b[0;34m\u001b[0m\u001b[0m\n\u001b[1;32m    488\u001b[0m \u001b[0;34m\u001b[0m\u001b[0m\n",
      "\u001b[0;32m/anaconda3/lib/python3.6/site-packages/theano/compile/function_module.py\u001b[0m in \u001b[0;36morig_function\u001b[0;34m(inputs=[In(x), In(e), In(W -> Elemwise{add,no_inplace}.0), In(mean -> Elemwise{add,no_inplace}.0), In(gamma -> Elemwise{add,no_inplace}.0), In(inv_std -> Elemwise{add,no_inplace}.0), In(beta -> Elemwise{add,no_inplace}.0), In(<TensorType(int32, matrix)> -> mrg_uniform{TensorType(float64, matrix),no_inplace}.0), In(W -> Elemwise{add,no_inplace}.0), In(mean -> Elemwise{add,no_inplace}.0), In(gamma -> Elemwise{add,no_inplace}.0), In(inv_std -> Elemwise{add,no_inplace}.0), In(beta -> Elemwise{add,no_inplace}.0), In(<TensorType(int32, matrix)> -> mrg_uniform{TensorType(float64, matrix),no_inplace}.0), In(W -> Elemwise{add,no_inplace}.0), In(b -> Elemwise{add,no_inplace}.0), In(W), In(mean -> Elemwise{add,no_inplace}.0), In(gamma), In(inv_std -> Elemwise{add,no_inplace}.0), ...], outputs=Out(Elemwise{add,no_inplace}.0,False), mode=<theano.compile.mode.Mode object>, accept_inplace=False, name='train', profile=None, on_unused_input=None, output_keys=None)\u001b[0m\n\u001b[1;32m   1837\u001b[0m                   \u001b[0mon_unused_input\u001b[0m\u001b[0;34m=\u001b[0m\u001b[0mon_unused_input\u001b[0m\u001b[0;34m,\u001b[0m\u001b[0;34m\u001b[0m\u001b[0;34m\u001b[0m\u001b[0m\n\u001b[1;32m   1838\u001b[0m                   \u001b[0moutput_keys\u001b[0m\u001b[0;34m=\u001b[0m\u001b[0moutput_keys\u001b[0m\u001b[0;34m,\u001b[0m\u001b[0;34m\u001b[0m\u001b[0;34m\u001b[0m\u001b[0m\n\u001b[0;32m-> 1839\u001b[0;31m                   name=name)\n\u001b[0m        \u001b[0;36mname\u001b[0m \u001b[0;34m= 'train'\u001b[0m\n\u001b[1;32m   1840\u001b[0m         \u001b[0;32mwith\u001b[0m \u001b[0mtheano\u001b[0m\u001b[0;34m.\u001b[0m\u001b[0mchange_flags\u001b[0m\u001b[0;34m(\u001b[0m\u001b[0mcompute_test_value\u001b[0m\u001b[0;34m=\u001b[0m\u001b[0;34m\"off\"\u001b[0m\u001b[0;34m)\u001b[0m\u001b[0;34m:\u001b[0m\u001b[0;34m\u001b[0m\u001b[0;34m\u001b[0m\u001b[0m\n\u001b[1;32m   1841\u001b[0m             \u001b[0mfn\u001b[0m \u001b[0;34m=\u001b[0m \u001b[0mm\u001b[0m\u001b[0;34m.\u001b[0m\u001b[0mcreate\u001b[0m\u001b[0;34m(\u001b[0m\u001b[0mdefaults\u001b[0m\u001b[0;34m)\u001b[0m\u001b[0;34m\u001b[0m\u001b[0;34m\u001b[0m\u001b[0m\n",
      "\u001b[0;32m/anaconda3/lib/python3.6/site-packages/theano/compile/function_module.py\u001b[0m in \u001b[0;36m__init__\u001b[0;34m(self=<theano.compile.function_module.FunctionMaker object>, inputs=[In(x), In(e), In(W -> Elemwise{add,no_inplace}.0), In(mean -> Elemwise{add,no_inplace}.0), In(gamma -> Elemwise{add,no_inplace}.0), In(inv_std -> Elemwise{add,no_inplace}.0), In(beta -> Elemwise{add,no_inplace}.0), In(<TensorType(int32, matrix)> -> mrg_uniform{TensorType(float64, matrix),no_inplace}.0), In(W -> Elemwise{add,no_inplace}.0), In(mean -> Elemwise{add,no_inplace}.0), In(gamma -> Elemwise{add,no_inplace}.0), In(inv_std -> Elemwise{add,no_inplace}.0), In(beta -> Elemwise{add,no_inplace}.0), In(<TensorType(int32, matrix)> -> mrg_uniform{TensorType(float64, matrix),no_inplace}.0), In(W -> Elemwise{add,no_inplace}.0), In(b -> Elemwise{add,no_inplace}.0), In(W), In(mean -> Elemwise{add,no_inplace}.0), In(gamma), In(inv_std -> Elemwise{add,no_inplace}.0), ...], outputs=[Out(Elemwise{add,no_inplace}.0,False)], mode=<theano.compile.mode.Mode object>, accept_inplace=False, function_builder=<class 'theano.compile.function_module.Function'>, profile=None, on_unused_input=None, fgraph=None, output_keys=None, name='train')\u001b[0m\n\u001b[1;32m   1472\u001b[0m \u001b[0;34m\u001b[0m\u001b[0m\n\u001b[1;32m   1473\u001b[0m         \u001b[0;31m# Check if some input variables are unused\u001b[0m\u001b[0;34m\u001b[0m\u001b[0;34m\u001b[0m\u001b[0;34m\u001b[0m\u001b[0m\n\u001b[0;32m-> 1474\u001b[0;31m         \u001b[0mself\u001b[0m\u001b[0;34m.\u001b[0m\u001b[0m_check_unused_inputs\u001b[0m\u001b[0;34m(\u001b[0m\u001b[0minputs\u001b[0m\u001b[0;34m,\u001b[0m \u001b[0moutputs\u001b[0m\u001b[0;34m,\u001b[0m \u001b[0mon_unused_input\u001b[0m\u001b[0;34m)\u001b[0m\u001b[0;34m\u001b[0m\u001b[0;34m\u001b[0m\u001b[0m\n\u001b[0m        \u001b[0;36mself._check_unused_inputs\u001b[0m \u001b[0;34m= <bound method FunctionMaker._check_unused_inputs of <theano.compile.function_module.FunctionMaker object at 0x12bc39780>>\u001b[0m\u001b[0;34m\n        \u001b[0m\u001b[0;36minputs\u001b[0m \u001b[0;34m= [In(x), In(e), In(W -> Elemwise{add,no_inplace}.0), In(mean -> Elemwise{add,no_inplace}.0), In(gamma -> Elemwise{add,no_inplace}.0), In(inv_std -> Elemwise{add,no_inplace}.0), In(beta -> Elemwise{add,no_inplace}.0), In(<TensorType(int32, matrix)> -> mrg_uniform{TensorType(float64, matrix),no_inplace}.0), In(W -> Elemwise{add,no_inplace}.0), In(mean -> Elemwise{add,no_inplace}.0), In(gamma -> Elemwise{add,no_inplace}.0), In(inv_std -> Elemwise{add,no_inplace}.0), In(beta -> Elemwise{add,no_inplace}.0), In(<TensorType(int32, matrix)> -> mrg_uniform{TensorType(float64, matrix),no_inplace}.0), In(W -> Elemwise{add,no_inplace}.0), In(b -> Elemwise{add,no_inplace}.0), In(W), In(mean -> Elemwise{add,no_inplace}.0), In(gamma), In(inv_std -> Elemwise{add,no_inplace}.0), In(beta), In(<TensorType(int32, matrix)> -> mrg_uniform{TensorType(float64, matrix),no_inplace}.0), In(W), In(mean -> Elemwise{add,no_inplace}.0), In(gamma), In(inv_std -> Elemwise{add,no_inplace}.0), In(beta), In(<TensorType(int32, matrix)> -> mrg_uniform{TensorType(float64, matrix),no_inplace}.0), In(W), In(b), In(<TensorType(float64, matrix)> -> Elemwise{sub,no_inplace}.0), In(<TensorType(float32, scalar)>), In(<TensorType(float64, vector)> -> Elemwise{sub,no_inplace}.0), In(<TensorType(float64, vector)> -> Elemwise{sub,no_inplace}.0), In(<TensorType(float64, matrix)> -> Elemwise{sub,no_inplace}.0), In(<TensorType(float64, vector)> -> Elemwise{sub,no_inplace}.0), In(<TensorType(float64, vector)> -> Elemwise{sub,no_inplace}.0), In(<TensorType(float64, col)> -> Elemwise{sub,no_inplace}.0), In(<TensorType(float64, (True,))> -> Elemwise{sub,no_inplace}.0)]\u001b[0m\u001b[0;34m\n        \u001b[0m\u001b[0;36moutputs\u001b[0m \u001b[0;34m= [Out(Elemwise{add,no_inplace}.0,False)]\u001b[0m\u001b[0;34m\n        \u001b[0m\u001b[0;36mon_unused_input\u001b[0m \u001b[0;34m= None\u001b[0m\n\u001b[1;32m   1475\u001b[0m \u001b[0;34m\u001b[0m\u001b[0m\n\u001b[1;32m   1476\u001b[0m         \u001b[0;31m# Make a list of (SymbolicInput|SymblicInputKits, indices,\u001b[0m\u001b[0;34m\u001b[0m\u001b[0;34m\u001b[0m\u001b[0;34m\u001b[0m\u001b[0m\n",
      "\u001b[0;32m/anaconda3/lib/python3.6/site-packages/theano/compile/function_module.py\u001b[0m in \u001b[0;36m_check_unused_inputs\u001b[0;34m(self=<theano.compile.function_module.FunctionMaker object>, inputs=[In(x), In(e), In(W -> Elemwise{add,no_inplace}.0), In(mean -> Elemwise{add,no_inplace}.0), In(gamma -> Elemwise{add,no_inplace}.0), In(inv_std -> Elemwise{add,no_inplace}.0), In(beta -> Elemwise{add,no_inplace}.0), In(<TensorType(int32, matrix)> -> mrg_uniform{TensorType(float64, matrix),no_inplace}.0), In(W -> Elemwise{add,no_inplace}.0), In(mean -> Elemwise{add,no_inplace}.0), In(gamma -> Elemwise{add,no_inplace}.0), In(inv_std -> Elemwise{add,no_inplace}.0), In(beta -> Elemwise{add,no_inplace}.0), In(<TensorType(int32, matrix)> -> mrg_uniform{TensorType(float64, matrix),no_inplace}.0), In(W -> Elemwise{add,no_inplace}.0), In(b -> Elemwise{add,no_inplace}.0), In(W), In(mean -> Elemwise{add,no_inplace}.0), In(gamma), In(inv_std -> Elemwise{add,no_inplace}.0), ...], outputs=[Out(Elemwise{add,no_inplace}.0,False)], on_unused_input='raise')\u001b[0m\n\u001b[1;32m   1625\u001b[0m                 \u001b[0;32melif\u001b[0m \u001b[0mon_unused_input\u001b[0m \u001b[0;34m==\u001b[0m \u001b[0;34m'raise'\u001b[0m\u001b[0;34m:\u001b[0m\u001b[0;34m\u001b[0m\u001b[0;34m\u001b[0m\u001b[0m\n\u001b[1;32m   1626\u001b[0m                     raise UnusedInputError(msg % (inputs.index(i),\n\u001b[0;32m-> 1627\u001b[0;31m                                                   i.variable, err_msg))\n\u001b[0m        \u001b[0;36mi.variable\u001b[0m \u001b[0;34m= x\u001b[0m\u001b[0;34m\n        \u001b[0m\u001b[0;36merr_msg\u001b[0m \u001b[0;34m= \"To make this error into a warning, you can pass the parameter on_unused_input='warn' to theano.function. To disable it completely, use on_unused_input='ignore'.\"\u001b[0m\n\u001b[1;32m   1628\u001b[0m                 \u001b[0;32melse\u001b[0m\u001b[0;34m:\u001b[0m\u001b[0;34m\u001b[0m\u001b[0;34m\u001b[0m\u001b[0m\n\u001b[1;32m   1629\u001b[0m                     raise ValueError(\"Invalid value for keyword \"\n",
      "\u001b[0;31mUnusedInputError\u001b[0m: theano.function was asked to create a function computing outputs given certain inputs, but the provided input variable at index 0 is not part of the computational graph needed to compute the outputs: x.\nTo make this error into a warning, you can pass the parameter on_unused_input='warn' to theano.function. To disable it completely, use on_unused_input='ignore'."
     ]
    }
   ],
   "source": [
    "# DeepSurv can now leverage TensorBoard to monitor training and validation\n",
    "# This section of code is optional. If you don't want to use the tensorboard logger\n",
    "# Uncomment the below line, and comment out the other three lines: \n",
    "# logger = None\n",
    "%xmode Verbose\n",
    "experiment_name = 'test_experiment_sebastian'\n",
    "logdir = './logs/tensorboard/'\n",
    "logger = TensorboardLogger(experiment_name, logdir=logdir)\n",
    "\n",
    "# Now we train the model\n",
    "update_fn=lasagne.updates.nesterov_momentum # The type of optimizer to use. \\\n",
    "                                            # Check out http://lasagne.readthedocs.io/en/latest/modules/updates.html \\\n",
    "                                            # for other optimizers to use\n",
    "n_epochs = 2000\n",
    "\n",
    "# If you have validation data, you can add it as the second parameter to the function\n",
    "metrics = model.train(train_data, n_epochs=n_epochs, logger=logger, update_fn=update_fn)"
   ]
  },
  {
   "cell_type": "markdown",
   "metadata": {},
   "source": [
    "There are two different ways to visualzie how the model trained:\n",
    "\n",
    "- Tensorboard (install ()[tensorboard]) which provides realtime metrics. Run the command in shell:\n",
    "   \n",
    "   `tensorboard --logdir './logs/tensorboard'`\n",
    "     \n",
    "     \n",
    "- Visualize the training functions post training (below)"
   ]
  },
  {
   "cell_type": "code",
   "execution_count": 9,
   "metadata": {},
   "outputs": [
    {
     "name": "stdout",
     "output_type": "stream",
     "text": [
      "Train C-Index: (1999, 0.6997686063272893)\n"
     ]
    },
    {
     "data": {
      "image/png": "[encoded data removed]",
      "text/plain": [
       "<Figure size 432x288 with 1 Axes>"
      ]
     },
     "metadata": {},
     "output_type": "display_data"
    },
    {
     "data": {
      "image/png": "[encoded data removed]",
      "text/plain": [
       "<Figure size 432x288 with 1 Axes>"
      ]
     },
     "metadata": {},
     "output_type": "display_data"
    }
   ],
   "source": [
    "# Print the final metrics\n",
    "print('Train C-Index:', metrics['c-index'][-1])\n",
    "# print('Valid C-Index: ',metrics['valid_c-index'][-1])\n",
    "\n",
    "# Plot the training / validation curves\n",
    "viz.plot_log(metrics)"
   ]
  }
 ],
 "metadata": {
  "anaconda-cloud": {},
  "kernelspec": {
   "display_name": "Python 3",
   "language": "python",
   "name": "python3"
  },
  "language_info": {
   "codemirror_mode": {
    "name": "ipython",
    "version": 3
   },
   "file_extension": ".py",
   "mimetype": "text/x-python",
   "name": "python",
   "nbconvert_exporter": "python",
   "pygments_lexer": "ipython3",
   "version": "3.6.10"
  }
 },
 "nbformat": 4,
 "nbformat_minor": 2
}
