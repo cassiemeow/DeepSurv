{
 "cells": [
  {
   "cell_type": "code",
   "execution_count": 1,
   "metadata": {
    "scrolled": true
   },
   "outputs": [
    {
     "name": "stderr",
     "output_type": "stream",
     "text": [
      "/anaconda3/lib/python3.6/site-packages/h5py/__init__.py:36: FutureWarning: Conversion of the second argument of issubdtype from `float` to `np.floating` is deprecated. In future, it will be treated as `np.float64 == np.dtype(float).type`.\n",
      "  from ._conv import register_converters as _register_converters\n"
     ]
    }
   ],
   "source": [
    "# Use DeepSurv from the repo\n",
    "import sys\n",
    "sys.path.append('../deepsurv')\n",
    "import deep_surv\n",
    "from deepsurv.deepsurv_logger import DeepSurvLogger, TensorboardLogger\n",
    "import utils\n",
    "import viz\n",
    "\n",
    "import numpy as np\n",
    "import pandas as pd\n",
    "\n",
    "import lasagne\n",
    "import matplotlib\n",
    "import matplotlib.pyplot as plt\n",
    "%matplotlib inline"
   ]
  },
  {
   "cell_type": "code",
   "execution_count": 2,
   "metadata": {},
   "outputs": [],
   "source": [
    "train_dataset_fp = './example_data.csv'\n",
    "train_df = pd.read_csv(train_dataset_fp)\n",
    "train_df.head()\n",
    "\n",
    "# event_col is the header in the df that represents the 'Event / Status' indicator\n",
    "# time_col is the header in the df that represents the event time\n",
    "def dataframe_to_deepsurv_ds(df, event_col = 'Event', time_col = 'Time'):\n",
    "    # Extract the event and time columns as numpy arrays\n",
    "    e = df[event_col].values.astype(np.int32)\n",
    "    t = df[time_col].values.astype(np.float32)\n",
    "\n",
    "    # Extract the patient's covariates as a numpy array\n",
    "    x_df = df.drop([event_col, time_col], axis = 1)\n",
    "    x = x_df.values.astype(np.float32)\n",
    "    \n",
    "    # Return the deep surv dataframe\n",
    "    return {\n",
    "        'x' : x,\n",
    "        'e' : e,\n",
    "        't' : t\n",
    "    }\n",
    "\n",
    "# If the headers of the csv change, you can replace the values of \n",
    "# 'event_col' and 'time_col' with the names of the new headers\n",
    "# You can also use this function on your training dataset, validation dataset, and testing dataset\n",
    "train_data = dataframe_to_deepsurv_ds(train_df, event_col = 'Event', time_col= 'Time')\n",
    "\n",
    "hyperparams = {\n",
    "    'L2_reg': 10.0,\n",
    "    'batch_norm': True,\n",
    "    'dropout': 0.4,\n",
    "    'hidden_layers_sizes': [25, 25],\n",
    "    'learning_rate': 1e-05,\n",
    "    'lr_decay': 0.001,\n",
    "    'momentum': 0.9,\n",
    "    'n_in': train_data['x'].shape[1],\n",
    "    'standardize': True\n",
    "}"
   ]
  },
  {
   "cell_type": "code",
   "execution_count": 3,
   "metadata": {
    "scrolled": false
   },
   "outputs": [],
   "source": [
    "# Create an instance of DeepSurv using the hyperparams defined above\n",
    "# %xmode Verbose\n",
    "model = deep_surv.DeepSurv(**hyperparams)"
   ]
  },
  {
   "cell_type": "code",
   "execution_count": 4,
   "metadata": {
    "scrolled": true
   },
   "outputs": [
    {
     "name": "stdout",
     "output_type": "stream",
     "text": [
      "Exception reporting mode: Verbose\n"
     ]
    },
    {
     "ename": "DisconnectedInputError",
     "evalue": " \nBacktrace when that variable is created:\n\n  File \"/anaconda3/lib/python3.6/site-packages/IPython/core/interactiveshell.py\", line 2728, in run_cell\n    interactivity=interactivity, compiler=compiler, result=result)\n  File \"/anaconda3/lib/python3.6/site-packages/IPython/core/interactiveshell.py\", line 2850, in run_ast_nodes\n    if self.run_code(code, result):\n  File \"/anaconda3/lib/python3.6/site-packages/IPython/core/interactiveshell.py\", line 2910, in run_code\n    exec(code_obj, self.user_global_ns, self.user_ns)\n  File \"<ipython-input-3-70d5bf762fb7>\", line 3, in <module>\n    model = deep_surv.DeepSurv(**hyperparams)\n  File \"../deepsurv/deep_surv.py\", line 73, in __init__\n    W = W_init\n  File \"/anaconda3/lib/python3.6/site-packages/lasagne/layers/dense.py\", line 103, in __init__\n    self.W = self.add_param(W, (num_inputs, num_units), name=\"W\")\n  File \"/anaconda3/lib/python3.6/site-packages/lasagne/layers/base.py\", line 234, in add_param\n    param = utils.create_param(spec, shape, name)\n  File \"/anaconda3/lib/python3.6/site-packages/lasagne/utils.py\", line 393, in create_param\n    spec = theano.shared(spec, broadcastable=bcast)\n",
     "output_type": "error",
     "traceback": [
      "\u001b[0;31m---------------------------------------------------------------------------\u001b[0m",
      "\u001b[0;31mDisconnectedInputError\u001b[0m                    Traceback (most recent call last)",
      "\u001b[0;32m<ipython-input-4-cc95aaa6d024>\u001b[0m in \u001b[0;36m<module>\u001b[0;34m()\u001b[0m\n\u001b[1;32m     15\u001b[0m \u001b[0;34m\u001b[0m\u001b[0m\n\u001b[1;32m     16\u001b[0m \u001b[0;31m# If you have validation data, you can add it as the second parameter to the function\u001b[0m\u001b[0;34m\u001b[0m\u001b[0;34m\u001b[0m\u001b[0;34m\u001b[0m\u001b[0m\n\u001b[0;32m---> 17\u001b[0;31m \u001b[0mmetrics\u001b[0m \u001b[0;34m=\u001b[0m \u001b[0mmodel\u001b[0m\u001b[0;34m.\u001b[0m\u001b[0mtrain\u001b[0m\u001b[0;34m(\u001b[0m\u001b[0mtrain_data\u001b[0m\u001b[0;34m,\u001b[0m \u001b[0mn_epochs\u001b[0m\u001b[0;34m=\u001b[0m\u001b[0mn_epochs\u001b[0m\u001b[0;34m,\u001b[0m \u001b[0mlogger\u001b[0m\u001b[0;34m=\u001b[0m\u001b[0mlogger\u001b[0m\u001b[0;34m,\u001b[0m \u001b[0mupdate_fn\u001b[0m\u001b[0;34m=\u001b[0m\u001b[0mupdate_fn\u001b[0m\u001b[0;34m)\u001b[0m\u001b[0;34m\u001b[0m\u001b[0;34m\u001b[0m\u001b[0m\n\u001b[0m        \u001b[0;36mglobal\u001b[0m \u001b[0;36mmetrics\u001b[0m \u001b[0;34m= \u001b[0;36mundefined\u001b[0m\u001b[0m\u001b[0;34m\n        \u001b[0m\u001b[0;36mglobal\u001b[0m \u001b[0;36mmodel.train\u001b[0m \u001b[0;34m= <bound method DeepSurv.train of <deep_surv.DeepSurv object at 0x10e8ca898>>\u001b[0m\u001b[0;34m\n        \u001b[0m\u001b[0;36mglobal\u001b[0m \u001b[0;36mtrain_data\u001b[0m \u001b[0;34m= {'x': array([[0. , 3. , 2. , 4.6],\n       [0. , 2. , 0. , 1.6],\n       [0. , 3. , 0. , 3.5],\n       ...,\n       [0. , 3. , 0. , 3.1],\n       [0. , 2. , 0. , 1.8],\n       [0. , 2. , 0. , 2.3]], dtype=float32), 'e': array([1, 0, 1, ..., 0, 0, 1], dtype=int32), 't': array([43., 52., 73., ...,  4., 41., 33.], dtype=float32)}\u001b[0m\u001b[0;34m\n        \u001b[0m\u001b[0;36mglobal\u001b[0m \u001b[0;36mn_epochs\u001b[0m \u001b[0;34m= 2000\u001b[0m\u001b[0;34m\n        \u001b[0m\u001b[0;36mglobal\u001b[0m \u001b[0;36mlogger\u001b[0m \u001b[0;34m= <deepsurv.deepsurv_logger.TensorboardLogger object at 0x127c3d0b8>\u001b[0m\u001b[0;34m\n        \u001b[0m\u001b[0;36mglobal\u001b[0m \u001b[0;36mupdate_fn\u001b[0m \u001b[0;34m= <function nesterov_momentum at 0x1242b4840>\u001b[0m\n",
      "\u001b[0;32m~/DeepSurv/deepsurv/deep_surv.py\u001b[0m in \u001b[0;36mtrain\u001b[0;34m(self=<deep_surv.DeepSurv object>, train_data={'e': array([1, 0, 1, ..., 0, 0, 1], dtype=int32), 't': array([43., 52., 73., ...,  4., 41., 33.], dtype=float32), 'x': array([[0. , 3. , 2. , 4.6],\n       [0. , 2. , 0....8],\n       [0. , 2. , 0. , 2.3]], dtype=float32)}, valid_data=None, n_epochs=2000, validation_frequency=250, patience=2000, improvement_threshold=0.99999, patience_increase=2, logger=<deepsurv.deepsurv_logger.TensorboardLogger object>, update_fn=<function nesterov_momentum>, verbose=True, **kwargs={})\u001b[0m\n\u001b[1;32m    281\u001b[0m             \u001b[0mlearning_rate\u001b[0m\u001b[0;34m=\u001b[0m\u001b[0mlr\u001b[0m\u001b[0;34m,\u001b[0m\u001b[0;34m\u001b[0m\u001b[0;34m\u001b[0m\u001b[0m\n\u001b[1;32m    282\u001b[0m             \u001b[0mmomentum\u001b[0m \u001b[0;34m=\u001b[0m \u001b[0mmomentum\u001b[0m\u001b[0;34m,\u001b[0m\u001b[0;34m\u001b[0m\u001b[0;34m\u001b[0m\u001b[0m\n\u001b[0;32m--> 283\u001b[0;31m             \u001b[0mupdate_fn\u001b[0m \u001b[0;34m=\u001b[0m \u001b[0mupdate_fn\u001b[0m\u001b[0;34m,\u001b[0m \u001b[0;34m**\u001b[0m\u001b[0mkwargs\u001b[0m\u001b[0;34m\u001b[0m\u001b[0;34m\u001b[0m\u001b[0m\n\u001b[0m        \u001b[0;36mupdate_fn\u001b[0m \u001b[0;34m= <function nesterov_momentum at 0x1242b4840>\u001b[0m\u001b[0;34m\n        \u001b[0m\u001b[0;36mkwargs\u001b[0m \u001b[0;34m= {}\u001b[0m\n\u001b[1;32m    284\u001b[0m         )\n\u001b[1;32m    285\u001b[0m \u001b[0;34m\u001b[0m\u001b[0m\n",
      "\u001b[0;32m~/DeepSurv/deepsurv/deep_surv.py\u001b[0m in \u001b[0;36m_get_train_valid_fn\u001b[0;34m(self=<deep_surv.DeepSurv object>, L1_reg=0.0, L2_reg=10.0, learning_rate=<TensorType(float32, scalar)>, **kwargs={'momentum': array(0., dtype=float32), 'update_fn': <function nesterov_momentum>})\u001b[0m\n\u001b[1;32m    191\u001b[0m         loss, updates = self._get_loss_updates(\n\u001b[1;32m    192\u001b[0m             \u001b[0mL1_reg\u001b[0m\u001b[0;34m,\u001b[0m \u001b[0mL2_reg\u001b[0m\u001b[0;34m,\u001b[0m \u001b[0mdeterministic\u001b[0m \u001b[0;34m=\u001b[0m \u001b[0;32mFalse\u001b[0m\u001b[0;34m,\u001b[0m\u001b[0;34m\u001b[0m\u001b[0;34m\u001b[0m\u001b[0m\n\u001b[0;32m--> 193\u001b[0;31m             \u001b[0mlearning_rate\u001b[0m\u001b[0;34m=\u001b[0m\u001b[0mlearning_rate\u001b[0m\u001b[0;34m,\u001b[0m \u001b[0;34m**\u001b[0m\u001b[0mkwargs\u001b[0m\u001b[0;34m\u001b[0m\u001b[0;34m\u001b[0m\u001b[0m\n\u001b[0m        \u001b[0;36mlearning_rate\u001b[0m \u001b[0;34m= <TensorType(float32, scalar)>\u001b[0m\u001b[0;34m\n        \u001b[0m\u001b[0;36mkwargs\u001b[0m \u001b[0;34m= {'momentum': array(0., dtype=float32), 'update_fn': <function nesterov_momentum at 0x1242b4840>}\u001b[0m\n\u001b[1;32m    194\u001b[0m         )\n\u001b[1;32m    195\u001b[0m         train_fn = theano.function(\n",
      "\u001b[0;32m~/DeepSurv/deepsurv/deep_surv.py\u001b[0m in \u001b[0;36m_get_loss_updates\u001b[0;34m(self=<deep_surv.DeepSurv object>, L1_reg=0.0, L2_reg=10.0, update_fn=<function nesterov_momentum>, max_norm=None, deterministic=False, momentum=array(0., dtype=float32), **kwargs={'learning_rate': <TensorType(float32, scalar)>})\u001b[0m\n\u001b[1;32m    167\u001b[0m         \u001b[0;32melse\u001b[0m\u001b[0;34m:\u001b[0m\u001b[0;34m\u001b[0m\u001b[0;34m\u001b[0m\u001b[0m\n\u001b[1;32m    168\u001b[0m             updates = update_fn(\n\u001b[0;32m--> 169\u001b[0;31m                 \u001b[0mloss\u001b[0m\u001b[0;34m,\u001b[0m \u001b[0mself\u001b[0m\u001b[0;34m.\u001b[0m\u001b[0mparams\u001b[0m\u001b[0;34m,\u001b[0m \u001b[0;34m**\u001b[0m\u001b[0mkwargs\u001b[0m\u001b[0;34m\u001b[0m\u001b[0;34m\u001b[0m\u001b[0m\n\u001b[0m        \u001b[0;36mloss\u001b[0m \u001b[0;34m= Elemwise{add,no_inplace}.0\u001b[0m\u001b[0;34m\n        \u001b[0m\u001b[0;36mself.params\u001b[0m \u001b[0;34m= [W, beta, gamma, W, beta, gamma, W, b, W, beta, gamma, W, beta, gamma, W, b]\u001b[0m\u001b[0;34m\n        \u001b[0m\u001b[0;36mkwargs\u001b[0m \u001b[0;34m= {'learning_rate': <TensorType(float32, scalar)>}\u001b[0m\n\u001b[1;32m    170\u001b[0m             )\n\u001b[1;32m    171\u001b[0m \u001b[0;34m\u001b[0m\u001b[0m\n",
      "\u001b[0;32m/anaconda3/lib/python3.6/site-packages/lasagne/updates.py\u001b[0m in \u001b[0;36mnesterov_momentum\u001b[0;34m(loss_or_grads=Elemwise{add,no_inplace}.0, params=[W, beta, gamma, W, beta, gamma, W, b, W, beta, gamma, W, beta, gamma, W, b], learning_rate=<TensorType(float32, scalar)>, momentum=0.9)\u001b[0m\n\u001b[1;32m    357\u001b[0m     \u001b[0mapply_nesterov_momentum\u001b[0m \u001b[0;34m:\u001b[0m \u001b[0mFunction\u001b[0m \u001b[0mapplying\u001b[0m \u001b[0mmomentum\u001b[0m \u001b[0mto\u001b[0m \u001b[0mupdates\u001b[0m\u001b[0;34m\u001b[0m\u001b[0;34m\u001b[0m\u001b[0m\n\u001b[1;32m    358\u001b[0m     \"\"\"\n\u001b[0;32m--> 359\u001b[0;31m     \u001b[0mupdates\u001b[0m \u001b[0;34m=\u001b[0m \u001b[0msgd\u001b[0m\u001b[0;34m(\u001b[0m\u001b[0mloss_or_grads\u001b[0m\u001b[0;34m,\u001b[0m \u001b[0mparams\u001b[0m\u001b[0;34m,\u001b[0m \u001b[0mlearning_rate\u001b[0m\u001b[0;34m)\u001b[0m\u001b[0;34m\u001b[0m\u001b[0;34m\u001b[0m\u001b[0m\n\u001b[0m        \u001b[0;36mupdates\u001b[0m \u001b[0;34m= \u001b[0;36mundefined\u001b[0m\u001b[0m\u001b[0;34m\n        \u001b[0m\u001b[0;36mglobal\u001b[0m \u001b[0;36msgd\u001b[0m \u001b[0;34m= <function sgd at 0x1242b4620>\u001b[0m\u001b[0;34m\n        \u001b[0m\u001b[0;36mloss_or_grads\u001b[0m \u001b[0;34m= Elemwise{add,no_inplace}.0\u001b[0m\u001b[0;34m\n        \u001b[0m\u001b[0;36mparams\u001b[0m \u001b[0;34m= [W, beta, gamma, W, beta, gamma, W, b, W, beta, gamma, W, beta, gamma, W, b]\u001b[0m\u001b[0;34m\n        \u001b[0m\u001b[0;36mlearning_rate\u001b[0m \u001b[0;34m= <TensorType(float32, scalar)>\u001b[0m\n\u001b[1;32m    360\u001b[0m     \u001b[0;32mreturn\u001b[0m \u001b[0mapply_nesterov_momentum\u001b[0m\u001b[0;34m(\u001b[0m\u001b[0mupdates\u001b[0m\u001b[0;34m,\u001b[0m \u001b[0mmomentum\u001b[0m\u001b[0;34m=\u001b[0m\u001b[0mmomentum\u001b[0m\u001b[0;34m)\u001b[0m\u001b[0;34m\u001b[0m\u001b[0;34m\u001b[0m\u001b[0m\n\u001b[1;32m    361\u001b[0m \u001b[0;34m\u001b[0m\u001b[0m\n",
      "\u001b[0;32m/anaconda3/lib/python3.6/site-packages/lasagne/updates.py\u001b[0m in \u001b[0;36msgd\u001b[0;34m(loss_or_grads=Elemwise{add,no_inplace}.0, params=[W, beta, gamma, W, beta, gamma, W, b, W, beta, gamma, W, beta, gamma, W, b], learning_rate=<TensorType(float32, scalar)>)\u001b[0m\n\u001b[1;32m    167\u001b[0m         \u001b[0mA\u001b[0m \u001b[0mdictionary\u001b[0m \u001b[0mmapping\u001b[0m \u001b[0meach\u001b[0m \u001b[0mparameter\u001b[0m \u001b[0mto\u001b[0m \u001b[0mits\u001b[0m \u001b[0mupdate\u001b[0m \u001b[0mexpression\u001b[0m\u001b[0;34m\u001b[0m\u001b[0;34m\u001b[0m\u001b[0m\n\u001b[1;32m    168\u001b[0m     \"\"\"\n\u001b[0;32m--> 169\u001b[0;31m     \u001b[0mgrads\u001b[0m \u001b[0;34m=\u001b[0m \u001b[0mget_or_compute_grads\u001b[0m\u001b[0;34m(\u001b[0m\u001b[0mloss_or_grads\u001b[0m\u001b[0;34m,\u001b[0m \u001b[0mparams\u001b[0m\u001b[0;34m)\u001b[0m\u001b[0;34m\u001b[0m\u001b[0;34m\u001b[0m\u001b[0m\n\u001b[0m        \u001b[0;36mgrads\u001b[0m \u001b[0;34m= \u001b[0;36mundefined\u001b[0m\u001b[0m\u001b[0;34m\n        \u001b[0m\u001b[0;36mglobal\u001b[0m \u001b[0;36mget_or_compute_grads\u001b[0m \u001b[0;34m= <function get_or_compute_grads at 0x1242b4488>\u001b[0m\u001b[0;34m\n        \u001b[0m\u001b[0;36mloss_or_grads\u001b[0m \u001b[0;34m= Elemwise{add,no_inplace}.0\u001b[0m\u001b[0;34m\n        \u001b[0m\u001b[0;36mparams\u001b[0m \u001b[0;34m= [W, beta, gamma, W, beta, gamma, W, b, W, beta, gamma, W, beta, gamma, W, b]\u001b[0m\n\u001b[1;32m    170\u001b[0m     \u001b[0mupdates\u001b[0m \u001b[0;34m=\u001b[0m \u001b[0mOrderedDict\u001b[0m\u001b[0;34m(\u001b[0m\u001b[0;34m)\u001b[0m\u001b[0;34m\u001b[0m\u001b[0;34m\u001b[0m\u001b[0m\n\u001b[1;32m    171\u001b[0m \u001b[0;34m\u001b[0m\u001b[0m\n",
      "\u001b[0;32m/anaconda3/lib/python3.6/site-packages/lasagne/updates.py\u001b[0m in \u001b[0;36mget_or_compute_grads\u001b[0;34m(loss_or_grads=Elemwise{add,no_inplace}.0, params=[W, beta, gamma, W, beta, gamma, W, b, W, beta, gamma, W, beta, gamma, W, b])\u001b[0m\n\u001b[1;32m    143\u001b[0m         \u001b[0;32mreturn\u001b[0m \u001b[0mloss_or_grads\u001b[0m\u001b[0;34m\u001b[0m\u001b[0;34m\u001b[0m\u001b[0m\n\u001b[1;32m    144\u001b[0m     \u001b[0;32melse\u001b[0m\u001b[0;34m:\u001b[0m\u001b[0;34m\u001b[0m\u001b[0;34m\u001b[0m\u001b[0m\n\u001b[0;32m--> 145\u001b[0;31m         \u001b[0;32mreturn\u001b[0m \u001b[0mtheano\u001b[0m\u001b[0;34m.\u001b[0m\u001b[0mgrad\u001b[0m\u001b[0;34m(\u001b[0m\u001b[0mloss_or_grads\u001b[0m\u001b[0;34m,\u001b[0m \u001b[0mparams\u001b[0m\u001b[0;34m)\u001b[0m\u001b[0;34m\u001b[0m\u001b[0;34m\u001b[0m\u001b[0m\n\u001b[0m        \u001b[0;36mglobal\u001b[0m \u001b[0;36mtheano.grad\u001b[0m \u001b[0;34m= <function grad at 0x1155abea0>\u001b[0m\u001b[0;34m\n        \u001b[0m\u001b[0;36mloss_or_grads\u001b[0m \u001b[0;34m= Elemwise{add,no_inplace}.0\u001b[0m\u001b[0;34m\n        \u001b[0m\u001b[0;36mparams\u001b[0m \u001b[0;34m= [W, beta, gamma, W, beta, gamma, W, b, W, beta, gamma, W, beta, gamma, W, b]\u001b[0m\n\u001b[1;32m    146\u001b[0m \u001b[0;34m\u001b[0m\u001b[0m\n\u001b[1;32m    147\u001b[0m \u001b[0;34m\u001b[0m\u001b[0m\n",
      "\u001b[0;32m/anaconda3/lib/python3.6/site-packages/theano/gradient.py\u001b[0m in \u001b[0;36mgrad\u001b[0;34m(cost=Elemwise{add,no_inplace}.0, wrt=[W, beta, gamma, W, beta, gamma, W, b, W, beta, gamma, W, beta, gamma, W, b], consider_constant=None, disconnected_inputs='raise', add_names=True, known_grads=OrderedDict(), return_disconnected='zero', null_gradients='raise')\u001b[0m\n\u001b[1;32m    587\u001b[0m         \u001b[0;32mif\u001b[0m \u001b[0melem\u001b[0m \u001b[0;32mnot\u001b[0m \u001b[0;32min\u001b[0m \u001b[0mvar_to_app_to_idx\u001b[0m \u001b[0;32mand\u001b[0m \u001b[0melem\u001b[0m \u001b[0;32mis\u001b[0m \u001b[0;32mnot\u001b[0m \u001b[0mcost\u001b[0m\u001b[0;31m \u001b[0m\u001b[0;31m\\\u001b[0m\u001b[0;34m\u001b[0m\u001b[0;34m\u001b[0m\u001b[0m\n\u001b[1;32m    588\u001b[0m                 \u001b[0;32mand\u001b[0m \u001b[0melem\u001b[0m \u001b[0;32mnot\u001b[0m \u001b[0;32min\u001b[0m \u001b[0mgrad_dict\u001b[0m\u001b[0;34m:\u001b[0m\u001b[0;34m\u001b[0m\u001b[0;34m\u001b[0m\u001b[0m\n\u001b[0;32m--> 589\u001b[0;31m             \u001b[0mhandle_disconnected\u001b[0m\u001b[0;34m(\u001b[0m\u001b[0melem\u001b[0m\u001b[0;34m)\u001b[0m\u001b[0;34m\u001b[0m\u001b[0;34m\u001b[0m\u001b[0m\n\u001b[0m        \u001b[0;36mhandle_disconnected\u001b[0m \u001b[0;34m= <function grad.<locals>.handle_disconnected at 0x1282047b8>\u001b[0m\u001b[0;34m\n        \u001b[0m\u001b[0;36melem\u001b[0m \u001b[0;34m= W\u001b[0m\n\u001b[1;32m    590\u001b[0m             \u001b[0mgrad_dict\u001b[0m\u001b[0;34m[\u001b[0m\u001b[0melem\u001b[0m\u001b[0;34m]\u001b[0m \u001b[0;34m=\u001b[0m \u001b[0mdisconnected_type\u001b[0m\u001b[0;34m(\u001b[0m\u001b[0;34m)\u001b[0m\u001b[0;34m\u001b[0m\u001b[0;34m\u001b[0m\u001b[0m\n\u001b[1;32m    591\u001b[0m \u001b[0;34m\u001b[0m\u001b[0m\n",
      "\u001b[0;32m/anaconda3/lib/python3.6/site-packages/theano/gradient.py\u001b[0m in \u001b[0;36mhandle_disconnected\u001b[0;34m(var=W)\u001b[0m\n\u001b[1;32m    574\u001b[0m             \u001b[0;32melif\u001b[0m \u001b[0mdisconnected_inputs\u001b[0m \u001b[0;34m==\u001b[0m \u001b[0;34m'raise'\u001b[0m\u001b[0;34m:\u001b[0m\u001b[0;34m\u001b[0m\u001b[0;34m\u001b[0m\u001b[0m\n\u001b[1;32m    575\u001b[0m                 \u001b[0mmessage\u001b[0m \u001b[0;34m=\u001b[0m \u001b[0mutils\u001b[0m\u001b[0;34m.\u001b[0m\u001b[0mget_variable_trace_string\u001b[0m\u001b[0;34m(\u001b[0m\u001b[0mvar\u001b[0m\u001b[0;34m)\u001b[0m\u001b[0;34m\u001b[0m\u001b[0;34m\u001b[0m\u001b[0m\n\u001b[0;32m--> 576\u001b[0;31m                 \u001b[0;32mraise\u001b[0m \u001b[0mDisconnectedInputError\u001b[0m\u001b[0;34m(\u001b[0m\u001b[0mmessage\u001b[0m\u001b[0;34m)\u001b[0m\u001b[0;34m\u001b[0m\u001b[0;34m\u001b[0m\u001b[0m\n\u001b[0m        \u001b[0;36mglobal\u001b[0m \u001b[0;36mDisconnectedInputError\u001b[0m \u001b[0;34m= <class 'theano.gradient.DisconnectedInputError'>\u001b[0m\u001b[0;34m\n        \u001b[0m\u001b[0;36mmessage\u001b[0m \u001b[0;34m= ' \\nBacktrace when that variable is created:\\n\\n  File \"/anaconda3/lib/python3.6/site-packages/IPython/core/interactiveshell.py\", line 2728, in run_cell\\n    interactivity=interactivity, compiler=compiler, result=result)\\n  File \"/anaconda3/lib/python3.6/site-packages/IPython/core/interactiveshell.py\", line 2850, in run_ast_nodes\\n    if self.run_code(code, result):\\n  File \"/anaconda3/lib/python3.6/site-packages/IPython/core/interactiveshell.py\", line 2910, in run_code\\n    exec(code_obj, self.user_global_ns, self.user_ns)\\n  File \"<ipython-input-3-70d5bf762fb7>\", line 3, in <module>\\n    model = deep_surv.DeepSurv(**hyperparams)\\n  File \"../deepsurv/deep_surv.py\", line 73, in __init__\\n    W = W_init\\n  File \"/anaconda3/lib/python3.6/site-packages/lasagne/layers/dense.py\", line 103, in __init__\\n    self.W = self.add_param(W, (num_inputs, num_units), name=\"W\")\\n  File \"/anaconda3/lib/python3.6/site-packages/lasagne/layers/base.py\", line 234, in add_param\\n    param = utils.create_param(spec, shape, name)\\n  File \"/anaconda3/lib/python3.6/site-packages/lasagne/utils.py\", line 393, in create_param\\n    spec = theano.shared(spec, broadcastable=bcast)\\n'\u001b[0m\n\u001b[1;32m    577\u001b[0m             \u001b[0;32melse\u001b[0m\u001b[0;34m:\u001b[0m\u001b[0;34m\u001b[0m\u001b[0;34m\u001b[0m\u001b[0m\n\u001b[1;32m    578\u001b[0m                 raise ValueError(\"Invalid value for keyword \"\n",
      "\u001b[0;31mDisconnectedInputError\u001b[0m:  \nBacktrace when that variable is created:\n\n  File \"/anaconda3/lib/python3.6/site-packages/IPython/core/interactiveshell.py\", line 2728, in run_cell\n    interactivity=interactivity, compiler=compiler, result=result)\n  File \"/anaconda3/lib/python3.6/site-packages/IPython/core/interactiveshell.py\", line 2850, in run_ast_nodes\n    if self.run_code(code, result):\n  File \"/anaconda3/lib/python3.6/site-packages/IPython/core/interactiveshell.py\", line 2910, in run_code\n    exec(code_obj, self.user_global_ns, self.user_ns)\n  File \"<ipython-input-3-70d5bf762fb7>\", line 3, in <module>\n    model = deep_surv.DeepSurv(**hyperparams)\n  File \"../deepsurv/deep_surv.py\", line 73, in __init__\n    W = W_init\n  File \"/anaconda3/lib/python3.6/site-packages/lasagne/layers/dense.py\", line 103, in __init__\n    self.W = self.add_param(W, (num_inputs, num_units), name=\"W\")\n  File \"/anaconda3/lib/python3.6/site-packages/lasagne/layers/base.py\", line 234, in add_param\n    param = utils.create_param(spec, shape, name)\n  File \"/anaconda3/lib/python3.6/site-packages/lasagne/utils.py\", line 393, in create_param\n    spec = theano.shared(spec, broadcastable=bcast)\n"
     ]
    }
   ],
   "source": [
    "# DeepSurv can now leverage TensorBoard to monitor training and validation\n",
    "# This section of code is optional. If you don't want to use the tensorboard logger\n",
    "# Uncomment the below line, and comment out the other three lines: \n",
    "# logger = None\n",
    "%xmode Verbose\n",
    "experiment_name = 'test_experiment_sebastian'\n",
    "logdir = './logs/tensorboard/'\n",
    "logger = TensorboardLogger(experiment_name, logdir=logdir)\n",
    "\n",
    "# Now we train the model\n",
    "update_fn=lasagne.updates.nesterov_momentum # The type of optimizer to use. \\\n",
    "                                            # Check out http://lasagne.readthedocs.io/en/latest/modules/updates.html \\\n",
    "                                            # for other optimizers to use\n",
    "n_epochs = 2000\n",
    "\n",
    "# If you have validation data, you can add it as the second parameter to the function\n",
    "metrics = model.train(train_data, n_epochs=n_epochs, logger=logger, update_fn=update_fn)"
   ]
  },
  {
   "cell_type": "markdown",
   "metadata": {},
   "source": [
    "There are two different ways to visualzie how the model trained:\n",
    "\n",
    "- Tensorboard (install ()[tensorboard]) which provides realtime metrics. Run the command in shell:\n",
    "   \n",
    "   `tensorboard --logdir './logs/tensorboard'`\n",
    "     \n",
    "     \n",
    "- Visualize the training functions post training (below)"
   ]
  },
  {
   "cell_type": "code",
   "execution_count": null,
   "metadata": {},
   "outputs": [],
   "source": [
    "# Print the final metrics\n",
    "print('Train C-Index:', metrics['c-index'][-1])\n",
    "# print('Valid C-Index: ',metrics['valid_c-index'][-1])\n",
    "\n",
    "# Plot the training / validation curves\n",
    "viz.plot_log(metrics)"
   ]
  }
 ],
 "metadata": {
  "anaconda-cloud": {},
  "kernelspec": {
   "display_name": "Python 3",
   "language": "python",
   "name": "python3"
  },
  "language_info": {
   "codemirror_mode": {
    "name": "ipython",
    "version": 3
   },
   "file_extension": ".py",
   "mimetype": "text/x-python",
   "name": "python",
   "nbconvert_exporter": "python",
   "pygments_lexer": "ipython3",
   "version": "3.6.10"
  }
 },
 "nbformat": 4,
 "nbformat_minor": 2
}
